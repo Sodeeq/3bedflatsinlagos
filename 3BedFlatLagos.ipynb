{
 "cells": [
  {
   "cell_type": "markdown",
   "metadata": {},
   "source": [
    "# Where can you get the Cheapest 3 Bed Flat Apartments in Lagos?"
   ]
  },
  {
   "cell_type": "code",
   "execution_count": 1,
   "metadata": {},
   "outputs": [],
   "source": [
    "import requests\n",
    "from requests import get\n",
    "from bs4 import BeautifulSoup\n",
    "import pandas as pd\n",
    "import numpy as np\n",
    "\n",
    "from time import sleep\n",
    "from random import randint"
   ]
  },
  {
   "cell_type": "markdown",
   "metadata": {},
   "source": [
    "# Data Extraction from (www.propertypro.ng)"
   ]
  },
  {
   "cell_type": "code",
   "execution_count": null,
   "metadata": {},
   "outputs": [],
   "source": [
    "pages = np.arange(0,2000,1)"
   ]
  },
  {
   "cell_type": "code",
   "execution_count": null,
   "metadata": {},
   "outputs": [],
   "source": [
    "title = []\n",
    "price = []\n",
    "location = []\n",
    "category = []\n",
    "subtitle = []\n",
    "description = []\n",
    "currency = []\n",
    "other_details = []\n",
    "amenity = []"
   ]
  },
  {
   "cell_type": "code",
   "execution_count": null,
   "metadata": {},
   "outputs": [],
   "source": [
    "for page_num in pages:\n",
    "\n",
    "    page = requests.get(\"https://www.propertypro.ng/property-for-rent/in/lagos?page=\" + str(page_num))\n",
    "                        \n",
    "    soup = BeautifulSoup(page.text,'html.parser')\n",
    "    properties = soup.find_all('div', class_=\"single-room-text\")\n",
    "                        \n",
    "    sleep (randint(2,10))\n",
    "                        \n",
    "    for container in properties:\n",
    "        titles = container.a.find(\"h2\", class_=\"listings-property-title\").text\n",
    "        title.append(titles)\n",
    "        \n",
    "        subtitles = container.find(\"h3\", class_=\"listings-property-title2\").text\n",
    "        subtitle.append(subtitles)\n",
    "        \n",
    "        currencys = container.find(\"span\", itemprop=\"priceCurrency\").text\n",
    "        currency.append(currencys)\n",
    "        \n",
    "        prices = container.find(\"span\", itemprop=\"price\").text.split('/')[0].replace(\",\",\"\")\n",
    "        price.append(prices)\n",
    "                                  \n",
    "        locations = container.find(\"h4\").text\n",
    "        location.append(locations)\n",
    "        \n",
    "        categorys = container.find_all(\"div\", {\"class\",\"furnished-btn\"})[0].text.replace(\"\\n\",\" \").strip()\n",
    "        category.append(categorys)\n",
    "                            \n",
    "       \n",
    "        otherdetails = container.find(\"p\", class_=\"d-none d-sm-block\").text\n",
    "        other_details.append(otherdetails)\n",
    "        \n",
    "        amenitys = container.find_all(\"div\", {\"class\":\"fur-areea\"})[0].text.replace(\" \",\"\").replace(\"\\n\",\" \").strip()\n",
    "        amenity.append(amenitys)\n",
    "        \n",
    "        descriptions = container.find(\"h3\", class_=\"listings-property-title2\").text\n",
    "        description.append(descriptions)"
   ]
  },
  {
   "cell_type": "code",
   "execution_count": null,
   "metadata": {},
   "outputs": [],
   "source": [
    "df = pd.DataFrame({\"title\":title, \"subtitle\": subtitle, \"location\": location,\\\n",
    "                   \"category\": category,\"amenity\": amenity,\\\n",
    "                   \"currency\": currency, \"price\":price, \"description\": description,\\\n",
    "                   \"other_details\": other_details})\n",
    "df[\"price\"] = df[\"price\"].astype(int)\n",
    "df.to_csv('house_rent_price_in_lagos.csv')"
   ]
  },
  {
   "cell_type": "markdown",
   "metadata": {},
   "source": [
    "#### To save our time, we store the extracted data to our desktop. It took over 5 hours to scrap the 2000 pages of data from the Propertypro website. We can't be running the scraping code all the time.\n",
    "#### This data was scraped on the 2nd of April, 2021."
   ]
  },
  {
   "cell_type": "markdown",
   "metadata": {},
   "source": [
    "# Data Cleaning"
   ]
  },
  {
   "cell_type": "code",
   "execution_count": 2,
   "metadata": {
    "scrolled": true
   },
   "outputs": [
    {
     "data": {
      "text/html": [
       "<div>\n",
       "<style scoped>\n",
       "    .dataframe tbody tr th:only-of-type {\n",
       "        vertical-align: middle;\n",
       "    }\n",
       "\n",
       "    .dataframe tbody tr th {\n",
       "        vertical-align: top;\n",
       "    }\n",
       "\n",
       "    .dataframe thead th {\n",
       "        text-align: right;\n",
       "    }\n",
       "</style>\n",
       "<table border=\"1\" class=\"dataframe\">\n",
       "  <thead>\n",
       "    <tr style=\"text-align: right;\">\n",
       "      <th></th>\n",
       "      <th>Unnamed: 0</th>\n",
       "      <th>title</th>\n",
       "      <th>subtitle</th>\n",
       "      <th>location</th>\n",
       "      <th>category</th>\n",
       "      <th>amenity</th>\n",
       "      <th>currency</th>\n",
       "      <th>price</th>\n",
       "      <th>description</th>\n",
       "      <th>other_details</th>\n",
       "    </tr>\n",
       "  </thead>\n",
       "  <tbody>\n",
       "    <tr>\n",
       "      <th>0</th>\n",
       "      <td>0</td>\n",
       "      <td>3 BEDROOM TERRACED DUPLEX HOUSE FOR RENT</td>\n",
       "      <td>Luxury 3 Bedroom Terrace Duplex with B/Q Servi...</td>\n",
       "      <td>Horizon 2 Extension EstateIkate Lekki Lagos</td>\n",
       "      <td>Serviced Newly Built</td>\n",
       "      <td>3beds 3baths 4Toilets</td>\n",
       "      <td>₦</td>\n",
       "      <td>3750000</td>\n",
       "      <td>Luxury 3 Bedroom Terrace Duplex with B/Q Servi...</td>\n",
       "      <td>FOR RENT: Luxury 3 Bedroom Terrace Duplex Wit...</td>\n",
       "    </tr>\n",
       "    <tr>\n",
       "      <th>1</th>\n",
       "      <td>1</td>\n",
       "      <td>4 BEDROOM SEMI DETACHED DUPLEX HOUSE FOR RENT</td>\n",
       "      <td>VERY PRACTICAL / CENTRALLY LOCATED 4 BEDROOM S...</td>\n",
       "      <td>OFF AHMADU BELLO WAYAhmadu Bello Way Victoria ...</td>\n",
       "      <td>Serviced</td>\n",
       "      <td>4beds 4baths 5Toilets</td>\n",
       "      <td>₦</td>\n",
       "      <td>5000000</td>\n",
       "      <td>VERY PRACTICAL / CENTRALLY LOCATED 4 BEDROOM S...</td>\n",
       "      <td>FOR RENT: *************STRICTLY FOR DIRECT CL...</td>\n",
       "    </tr>\n",
       "    <tr>\n",
       "      <th>2</th>\n",
       "      <td>2</td>\n",
       "      <td>3 BEDROOM FLAT / APARTMENT FOR RENT</td>\n",
       "      <td>PRINCE ADEMOLA OSINUGA EXCLUSIVE 12NOS CENTRAL...</td>\n",
       "      <td>CENTRAL IKOYIOld Ikoyi Ikoyi Lagos</td>\n",
       "      <td>Serviced</td>\n",
       "      <td>3beds 3baths 4Toilets</td>\n",
       "      <td>₦</td>\n",
       "      <td>74400000</td>\n",
       "      <td>PRINCE ADEMOLA OSINUGA EXCLUSIVE 12NOS CENTRAL...</td>\n",
       "      <td>FOR RENT: ******STRICTLY FOR DIRECT &amp; CASH RE...</td>\n",
       "    </tr>\n",
       "  </tbody>\n",
       "</table>\n",
       "</div>"
      ],
      "text/plain": [
       "   Unnamed: 0                                          title  \\\n",
       "0           0       3 BEDROOM TERRACED DUPLEX HOUSE FOR RENT   \n",
       "1           1  4 BEDROOM SEMI DETACHED DUPLEX HOUSE FOR RENT   \n",
       "2           2            3 BEDROOM FLAT / APARTMENT FOR RENT   \n",
       "\n",
       "                                            subtitle  \\\n",
       "0  Luxury 3 Bedroom Terrace Duplex with B/Q Servi...   \n",
       "1  VERY PRACTICAL / CENTRALLY LOCATED 4 BEDROOM S...   \n",
       "2  PRINCE ADEMOLA OSINUGA EXCLUSIVE 12NOS CENTRAL...   \n",
       "\n",
       "                                            location              category  \\\n",
       "0        Horizon 2 Extension EstateIkate Lekki Lagos  Serviced Newly Built   \n",
       "1  OFF AHMADU BELLO WAYAhmadu Bello Way Victoria ...              Serviced   \n",
       "2                 CENTRAL IKOYIOld Ikoyi Ikoyi Lagos              Serviced   \n",
       "\n",
       "                 amenity currency     price  \\\n",
       "0  3beds 3baths 4Toilets        ₦   3750000   \n",
       "1  4beds 4baths 5Toilets        ₦   5000000   \n",
       "2  3beds 3baths 4Toilets        ₦  74400000   \n",
       "\n",
       "                                         description  \\\n",
       "0  Luxury 3 Bedroom Terrace Duplex with B/Q Servi...   \n",
       "1  VERY PRACTICAL / CENTRALLY LOCATED 4 BEDROOM S...   \n",
       "2  PRINCE ADEMOLA OSINUGA EXCLUSIVE 12NOS CENTRAL...   \n",
       "\n",
       "                                       other_details  \n",
       "0   FOR RENT: Luxury 3 Bedroom Terrace Duplex Wit...  \n",
       "1   FOR RENT: *************STRICTLY FOR DIRECT CL...  \n",
       "2   FOR RENT: ******STRICTLY FOR DIRECT & CASH RE...  "
      ]
     },
     "execution_count": 2,
     "metadata": {},
     "output_type": "execute_result"
    }
   ],
   "source": [
    "rent = pd.read_csv(\"house_rent_price_in_lagos.csv\")\n",
    "rent.head(3)"
   ]
  },
  {
   "cell_type": "code",
   "execution_count": 3,
   "metadata": {},
   "outputs": [
    {
     "data": {
      "text/plain": [
       "(57918, 10)"
      ]
     },
     "execution_count": 3,
     "metadata": {},
     "output_type": "execute_result"
    }
   ],
   "source": [
    "#We have about 50,000 properties in the dataset\n",
    "\n",
    "rent.shape "
   ]
  },
  {
   "cell_type": "markdown",
   "metadata": {},
   "source": [
    "#### Dropping unwanted columns (Unnamed: 0 and category)"
   ]
  },
  {
   "cell_type": "code",
   "execution_count": 4,
   "metadata": {},
   "outputs": [],
   "source": [
    "rent.drop(['Unnamed: 0','category'], axis = 1, inplace=True)"
   ]
  },
  {
   "cell_type": "markdown",
   "metadata": {},
   "source": [
    "#### Splittng the amenity column into bed,bath, and toilet, then deleting the amenity column afterwards"
   ]
  },
  {
   "cell_type": "code",
   "execution_count": 5,
   "metadata": {},
   "outputs": [
    {
     "data": {
      "text/html": [
       "<div>\n",
       "<style scoped>\n",
       "    .dataframe tbody tr th:only-of-type {\n",
       "        vertical-align: middle;\n",
       "    }\n",
       "\n",
       "    .dataframe tbody tr th {\n",
       "        vertical-align: top;\n",
       "    }\n",
       "\n",
       "    .dataframe thead th {\n",
       "        text-align: right;\n",
       "    }\n",
       "</style>\n",
       "<table border=\"1\" class=\"dataframe\">\n",
       "  <thead>\n",
       "    <tr style=\"text-align: right;\">\n",
       "      <th></th>\n",
       "      <th>title</th>\n",
       "      <th>subtitle</th>\n",
       "      <th>location</th>\n",
       "      <th>currency</th>\n",
       "      <th>price</th>\n",
       "      <th>description</th>\n",
       "      <th>other_details</th>\n",
       "      <th>bed</th>\n",
       "      <th>bath</th>\n",
       "      <th>toilet</th>\n",
       "    </tr>\n",
       "  </thead>\n",
       "  <tbody>\n",
       "    <tr>\n",
       "      <th>0</th>\n",
       "      <td>3 BEDROOM TERRACED DUPLEX HOUSE FOR RENT</td>\n",
       "      <td>Luxury 3 Bedroom Terrace Duplex with B/Q Servi...</td>\n",
       "      <td>Horizon 2 Extension EstateIkate Lekki Lagos</td>\n",
       "      <td>₦</td>\n",
       "      <td>3750000</td>\n",
       "      <td>Luxury 3 Bedroom Terrace Duplex with B/Q Servi...</td>\n",
       "      <td>FOR RENT: Luxury 3 Bedroom Terrace Duplex Wit...</td>\n",
       "      <td>3</td>\n",
       "      <td>3</td>\n",
       "      <td>4</td>\n",
       "    </tr>\n",
       "    <tr>\n",
       "      <th>1</th>\n",
       "      <td>4 BEDROOM SEMI DETACHED DUPLEX HOUSE FOR RENT</td>\n",
       "      <td>VERY PRACTICAL / CENTRALLY LOCATED 4 BEDROOM S...</td>\n",
       "      <td>OFF AHMADU BELLO WAYAhmadu Bello Way Victoria ...</td>\n",
       "      <td>₦</td>\n",
       "      <td>5000000</td>\n",
       "      <td>VERY PRACTICAL / CENTRALLY LOCATED 4 BEDROOM S...</td>\n",
       "      <td>FOR RENT: *************STRICTLY FOR DIRECT CL...</td>\n",
       "      <td>4</td>\n",
       "      <td>4</td>\n",
       "      <td>5</td>\n",
       "    </tr>\n",
       "    <tr>\n",
       "      <th>2</th>\n",
       "      <td>3 BEDROOM FLAT / APARTMENT FOR RENT</td>\n",
       "      <td>PRINCE ADEMOLA OSINUGA EXCLUSIVE 12NOS CENTRAL...</td>\n",
       "      <td>CENTRAL IKOYIOld Ikoyi Ikoyi Lagos</td>\n",
       "      <td>₦</td>\n",
       "      <td>74400000</td>\n",
       "      <td>PRINCE ADEMOLA OSINUGA EXCLUSIVE 12NOS CENTRAL...</td>\n",
       "      <td>FOR RENT: ******STRICTLY FOR DIRECT &amp; CASH RE...</td>\n",
       "      <td>3</td>\n",
       "      <td>3</td>\n",
       "      <td>4</td>\n",
       "    </tr>\n",
       "  </tbody>\n",
       "</table>\n",
       "</div>"
      ],
      "text/plain": [
       "                                           title  \\\n",
       "0       3 BEDROOM TERRACED DUPLEX HOUSE FOR RENT   \n",
       "1  4 BEDROOM SEMI DETACHED DUPLEX HOUSE FOR RENT   \n",
       "2            3 BEDROOM FLAT / APARTMENT FOR RENT   \n",
       "\n",
       "                                            subtitle  \\\n",
       "0  Luxury 3 Bedroom Terrace Duplex with B/Q Servi...   \n",
       "1  VERY PRACTICAL / CENTRALLY LOCATED 4 BEDROOM S...   \n",
       "2  PRINCE ADEMOLA OSINUGA EXCLUSIVE 12NOS CENTRAL...   \n",
       "\n",
       "                                            location currency     price  \\\n",
       "0        Horizon 2 Extension EstateIkate Lekki Lagos        ₦   3750000   \n",
       "1  OFF AHMADU BELLO WAYAhmadu Bello Way Victoria ...        ₦   5000000   \n",
       "2                 CENTRAL IKOYIOld Ikoyi Ikoyi Lagos        ₦  74400000   \n",
       "\n",
       "                                         description  \\\n",
       "0  Luxury 3 Bedroom Terrace Duplex with B/Q Servi...   \n",
       "1  VERY PRACTICAL / CENTRALLY LOCATED 4 BEDROOM S...   \n",
       "2  PRINCE ADEMOLA OSINUGA EXCLUSIVE 12NOS CENTRAL...   \n",
       "\n",
       "                                       other_details bed bath toilet  \n",
       "0   FOR RENT: Luxury 3 Bedroom Terrace Duplex Wit...   3    3      4  \n",
       "1   FOR RENT: *************STRICTLY FOR DIRECT CL...   4    4      5  \n",
       "2   FOR RENT: ******STRICTLY FOR DIRECT & CASH RE...   3    3      4  "
      ]
     },
     "execution_count": 5,
     "metadata": {},
     "output_type": "execute_result"
    }
   ],
   "source": [
    "rent[['bed','bath','toilet']] = rent['amenity'].str.split(\" \", expand=True)\n",
    "rent['bed'] = rent['bed'].str.replace('beds','')\n",
    "rent['bath'] = rent['bath'].str.replace('baths','')\n",
    "rent['toilet'] = rent['toilet'].str.replace('Toilets','')\n",
    "rent.drop('amenity', axis = 1, inplace=True)\n",
    "rent.head(3)"
   ]
  },
  {
   "cell_type": "markdown",
   "metadata": {},
   "source": [
    "#### Dropping some properties for sale which were included in the scrapped data"
   ]
  },
  {
   "cell_type": "code",
   "execution_count": 6,
   "metadata": {},
   "outputs": [],
   "source": [
    "sale = rent[rent['other_details'].str.contains('SALE')].index\n",
    "rent = rent.drop(sale)"
   ]
  },
  {
   "cell_type": "markdown",
   "metadata": {},
   "source": [
    "#### Staying away from some inconsistency in the currency, and issues of currency version, we are taking away properties quoted in dollars"
   ]
  },
  {
   "cell_type": "code",
   "execution_count": 7,
   "metadata": {},
   "outputs": [],
   "source": [
    "rent['currency'] = rent['currency'].replace({'₦':'naira','$':'dollars'})\n",
    "prop_in_dollars = rent[rent['currency']=='dollars'].index\n",
    "rent = rent.drop(prop_in_dollars)"
   ]
  },
  {
   "cell_type": "markdown",
   "metadata": {},
   "source": [
    "#### Trying to extract the exact areas from the property addresses in the location column. Not really giving us what we want, but we will sort this later"
   ]
  },
  {
   "cell_type": "code",
   "execution_count": 8,
   "metadata": {
    "scrolled": false
   },
   "outputs": [
    {
     "data": {
      "text/plain": [
       "array(['Lekki', 'Island', 'Ikoyi', 'Gbagada', 'Ikeja', 'Surulere',\n",
       "       'Ojodu', '-Ikoyi', 'Maryland', 'Yaba', 'Ajah', 'LekkiLekki',\n",
       "       'Apapa', 'Isolo', 'Okota', 'Ogba', 'Agege', 'Right.Lekki', 'Ipaja',\n",
       "       'OrchidLekki', 'TollgateLekki', 'RoadLekki', 'Marwa,Lekki',\n",
       "       'gateLekki', 'shopriteIkeja', 'ChevronLekki', 'right.Lekki',\n",
       "       'rightLekki', 'tollgateLekki', 'roadLekki', 'Idimu', 'estateIkoyi',\n",
       "       'AjahLekki', 'roadIkoyi', 'Ilupeju', 'OsapaLekki', 'ComplexAjah',\n",
       "       'Ogudu', 'IkoyiIkoyi', 'GateLekki', 'driveLekki', 'EstateLekki',\n",
       "       'SangotedoAjah', 'Egba', 'Odofin', 'Island.Ikoyi', 'BucknorIsolo',\n",
       "       'EjigboEjigbo', 'orchidLekki', 'Ejigbo', 'stopEjigbo',\n",
       "       'estateLekki', 'Igando', '1Lekki', 'Shomolu', 'GRAIkeja',\n",
       "       'yabaYaba', 'RoadIkoyi', 'Iju', 'KetuKetu', 'Ikosi', 'Ketu',\n",
       "       '-Ketu', '-Gbagada', 'KiloSurulere', 'Lagos.Yaba',\n",
       "       'EstateSangotedo', 'Yaba.Yaba', 'WaterprimeLekki', 'Ikorodu',\n",
       "       'isoloIsolo', 'GRAYaba', 'rdShomolu', '-Maryland', 'estateIsolo',\n",
       "       'Sangotedo', 'wayIsolo', 'cityAjah', 'Road,Yaba.Yaba', 'Alimosho',\n",
       "       'estateAjah', 'Itamaga,Ikorodu', 'AjahAjah', 'EstateAjah',\n",
       "       'EstateIkeja', 'closeAjah', 'lekkiLekki', 'lagosLekki',\n",
       "       'EmmanuelKetu', 'Oshodi', 'Ojota', 'IsoloIsolo', 'VGCLekki',\n",
       "       'AJAHAjah', 'areaIsolo', 'IlasamajaIsolo', '...Yaba',\n",
       "       'AvenueIkoyi', 'Mushin', 'PalaceIsolo', 'Park,Ajah', 'LagosAjah',\n",
       "       'BudlandOjodu', 'RoadEpe', 'CresentMaryland', 'Camp',\n",
       "       'TOLLGATELekki', 'CrescentMaryland', 'marketLekki', 'AlapereKetu',\n",
       "       'MajekAjah', '1Shomolu', 'EstateSurulere', 'StreetSurulere',\n",
       "       'Arepo.Ojodu', 'LagosAlimosho', 'streetSurulere', 'EstateIsolo',\n",
       "       '...Ikoyi', 'RoadYaba', 'MarylandMaryland', 'roadShomolu',\n",
       "       'ROADAjah', 'SangotedoSangotedo', 'MobaAjah', 'ESTATEAjah',\n",
       "       'roadAjah', 'LAGOSGbagada', 'LAGOSOgudu', 'Badagry',\n",
       "       'GBAGADAGbagada', 'OGUDUOgudu', 'EstateOkota', 'Ojo', 'RoadIsolo',\n",
       "       'surulereSurulere', 'ESTATELekki', '-Okota', 'EstateGbagada',\n",
       "       'HomsIlupeju', 'AYOBOIpaja', 'AGEGEAgege', 'ipajaAlimosho',\n",
       "       'ChevronGbagada', 'Aga,Ikorodu', 'command.Alimosho', 'IsheriOjodu',\n",
       "       'OguduOgudu', 'MarwaLekki', 'WayLekki', 'LAGOS.Ikeja',\n",
       "       'ipaja.Alimosho', 'okotaOkota', 'AkinyodeOjodu', 'Estate,Ogba',\n",
       "       'Ipaja.Alimosho', 'Lagos.Alimosho', 'IslandIkoyi',\n",
       "       'itamaga,Ikorodu', 'areaAgege', 'estate.Alimosho', 'bus/stopLekki',\n",
       "       'StreetOshodi', '-Lekki', 'Phase1Lekki', 'Road.Ikoyi',\n",
       "       'RightLekki', 'AxisLekki', 'StreetIkeja', 'VGC.Lekki', 'OLekki',\n",
       "       'roadIsolo', 'DriveSurulere', 'Ikeja.Ikeja', 'AnthonyMaryland',\n",
       "       'ROADOkota', 'StreetIsolo', 'isheriOjodu', 'G.R.Yaba', '1Ikeja',\n",
       "       '2Ikeja', 'Avenue', 'DriveIkoyi', 'Oniru', 'schoolOjodu',\n",
       "       'right),Lekki', 'OniruLekki', 'EstateIkoyi', 'Alaka', 'Omorinre',\n",
       "       'StreetIkoyi', 'Babs', '-Yaba', 'Bourdillon', 'GraIkeja',\n",
       "       'ShangishaIkeja', 'estateMaryland', 'ThomasSurulere',\n",
       "       'Phase1Ikeja', 'okobaIju', 'EyitaIkorodu', 'EXPRESSWAYIsolo',\n",
       "       'ElegushiLekki', 'ketuKetu', 'ObawoleIkeja', 'ikoyiIkoyi',\n",
       "       'road.Iju', 'Lagos.Shomolu', '-Ogudu', 'OgbaOgba', 'areaGbagada',\n",
       "       '-Surulere', '-Ojodu', '-Ojota', '-Ipaja', '-Ilupeju', '-Ikeja',\n",
       "       '-Agege', 'YabaYaba', '1004Lekki', '-Ogba', '2Shomolu',\n",
       "       'bustopIsolo', '...Ogudu', '...Ogba', 'strIsolo', 'GRA.Yaba',\n",
       "       '-Shomolu', 'AkiloOgba', '...Maryland', '...Ojodu', '..Oshodi',\n",
       "       'Lagos.Gbagada', 'ShomoluShomolu', '...Gbagada', 'palaceIsolo',\n",
       "       'okotaIsolo', 'Lagos.Maryland', 'WasimiMaryland', 'GbagadaGbagada',\n",
       "       'EstateYaba', 'RoadIkeja', 'roadIkeja', 'GarrdenLekki',\n",
       "       'ROADLekki', 'bridgeAjah', 'oguduOgudu', '...Lekki',\n",
       "       'conservationLekki', 'homesLekki', '2Ketu', 'areaOshodi',\n",
       "       'expressOshodi', 'streetOgudu', '2Ojodu', 'Fola-AgoroYaba',\n",
       "       'RoadShomolu', 'EstateOjodu', 'StreetMushin', 'KeriKetu',\n",
       "       'CityAjah', 'StreetOgba', 'AgbaraBadagry', '-Ajah',\n",
       "       'AkereleSurulere', 'alapereKetu', 'lagosMaryland', 'roadGbagada',\n",
       "       'EstateMaryland', 'OkotaOkota', 'roadYaba', 'ObawoleOgba', '2Yaba',\n",
       "       'roadSurulere', 'REWANEIkoyi', 'OgidanSangotedo', 'CrescentYaba',\n",
       "       'pedroGbagada', 'RoadOgba', 'axisIlupeju', '...Ajah', 'gardenAjah',\n",
       "       'RoadAjah', 'ajahAjah', 'MatoriOshodi', 'SurulereSurulere',\n",
       "       'MegamoundLekki', 'road,Ikoyi', 'FamousGbagada', 'streetIkoyi',\n",
       "       'AdepitanKetu', 'sideKetu', 'CrescentApapa', 'rdAlimosho',\n",
       "       'rdIkoyi', 'BadoreAjah', 'EleganzaLekki', 'CountyLekki',\n",
       "       '...Shomolu', 'LagosGbagada', 'PedroShomolu', 'estateAgege',\n",
       "       'roadIju', '2Ikoyi', 'RoadOgudu', 'IjushagaIju', 'IteleIpaja',\n",
       "       'lakShomolu', 'IkotunAlimosho', 'AlexanderIkoyi', 'AbiodunShomolu',\n",
       "       'agoraYaba', 'ikateLekki', 'estateGbagada', 'axisSurulere',\n",
       "       'RoadApapa', 'ikoroduIkorodu', 'Road..Ajah', 'okeOgudu',\n",
       "       'MainlandIsolo', 'Isolo.LagosIsolo', 'ajangbandiBadagry',\n",
       "       'animashaunSurulere', 'PH.1,ESTATE..Ikeja', '...Isolo',\n",
       "       'AREA,BUDLAND.....Ojodu', 'SCHOOL.....Ojodu', 'ALIMOSHOAlimosho',\n",
       "       'AREA.....Ojodu', 'IkateLekki', 'OJODU......Ikeja',\n",
       "       'PH.1,ESTATE.....Ikeja', 'ESTATE......Ogba', 'driveIkoyi',\n",
       "       'lacShomolu', 'IpajaAlimosho', 'OKE-IRA....Ogba', 'way,Ikorodu',\n",
       "       'wayYaba', '1,Ojodu', 'berger.Ikeja', 'AREA.....Ogba', 'Orile',\n",
       "       'ojodu.Ikeja', 'estate......Ojodu', 'SCHOOL......Ojodu',\n",
       "       'LagosMaryland', 'RD.OGBA....Ikeja', 'MarylandIkeja', 'HotelOgba',\n",
       "       'AgudaSurulere', 'roadOgba', '.Alimosho', 'areaYaba', 'EstateKetu',\n",
       "       'OdoduwaIkeja', 'OJODU.....Ikeja', 'boyGbagada',\n",
       "       'BajulaiyeShomolu', 'ObawoleIju', 'STREET......Ojodu', 'mallLekki',\n",
       "       'ESTATE,Ikeja', 'OnikeYaba', 'OsiboLekki', 'AREA........Ojodu',\n",
       "       'STADIUM.....Ogba', 'AyoboAlimosho', 'ESTATE......Ojodu',\n",
       "       'stopAlimosho', 'egbeda.Alimosho', 'ESTATE.....Ogba',\n",
       "       'AREA....Ogba', 'stop.Alimosho', 'road,Ikorodu', 'lagosAlimosho',\n",
       "       'LagosMushin', 'gbagadaGbagada', 'EstateAlimosho', 'road.Alimosho',\n",
       "       'Road,Ikoyi', 'SalemLekki', 'AREA......Ogba', 'ISHERI.....Ojodu',\n",
       "       'ShopriteSangotedo', 'streetOshodi', 'kuyeSurulere', 'IjuIju',\n",
       "       'IshagaIju', 'ElekoAjah', 'LadilakShomolu', 'roadOkota',\n",
       "       'MorroccoShomolu', '...Ilupeju', 'SURULERESurulere', 'Axis)Iju',\n",
       "       '....Gbagada', '....Yaba', '...Ketu', '...Surulere', '....Ogudu',\n",
       "       'agudaSurulere', 'ijaiyeOgba', 'DemurinKetu', '.Ketu',\n",
       "       'LAGOS.Ikoyi', 'LadlakGbagada', '-Alimosho', 'Epe', 'streetKetu',\n",
       "       'MajekLekki', 'LagosIkoyi', 'StateIkoyi', 'streetOgba',\n",
       "       'avenueOgba', 'str.Ojodu', '101233Ikoyi', 'GiwaIju',\n",
       "       'AbijoSangotedo', '-Iju', 'AlagboleOjodu', 'AgoIsolo',\n",
       "       'Ikoyi.Ikoyi', '-----Alimosho', 'estateKetu', 'etiLekki', '-Epe',\n",
       "       'AreaOjodu', 'ExtensionAlimosho', 'RoadIju', 'baseAlimosho',\n",
       "       'Langbasa.Ajah', 'StationIju', '...Ipaja', '-Sangotedo',\n",
       "       'MoroccoYaba', 'balogunKetu', '1Ojodu', 'ALekki',\n",
       "       'Avenue,Alapere,KetuKetu', '2Ajah', 'LbsAjah', 'OlogoloLekki',\n",
       "       'osapaLekki', 'estateOgba', 'idimuAlimosho', 'IlasanLekki',\n",
       "       'GRALekki', 'wayAjah', 'rdOgba', 'CollegeIkoyi', 'phase2Ikeja',\n",
       "       'streetYaba', 'StreetOjodu', 'RDAlimosho', 'ElepeIkorodu',\n",
       "       'AboruAlimosho', 'commandIpaja', 'ogunfayoAjah', 'expresswayLekki',\n",
       "       'TowersIkoyi', 'osborneIkoyi', 'R.H.SLekki', 'GATELekki',\n",
       "       'LBSAjah', 'ErunwenIkorodu', 'estateIkorodu', 'strIkeja',\n",
       "       'estateAlimosho', 'ROADIkoyi', 'ESTATEIpaja', 'OribanwaAjah',\n",
       "       'ABATANOgba', 'LagosKetu', 'TVOgba', 'ROAD,Surulere',\n",
       "       'MarketIpaja', 'TRANSFORMERIkorodu', 'GBAGAIkorodu',\n",
       "       'COMMANDIpaja', 'GARDENSAlimosho', 'annexSangotedo', '...Alimosho',\n",
       "       'areaSangotedo', 'wayLekki', 'DriveLekki', 'IkotaLekki',\n",
       "       'sholuyiGbagada', 'OwodeAjah', 'AgungiLekki', 'Gbagada.Gbagada',\n",
       "       'strGbagada', 'ROADIkorodu', 'ROADGbagada', 'AbatanOgba',\n",
       "       'bajulaiyeShomolu', 'MACAULAYYaba', 'AGBEDEIkorodu',\n",
       "       'oluwoIkorodu', 'ELEMOROAjah', 'LABSAjah', 'STREETShomolu',\n",
       "       'MEIRANAlimosho', 'avenueOgudu', 'CostainYaba', 'ROADKetu',\n",
       "       'THOMASSurulere', 'SCHOOLAjah', 'HOMESLekki', 'LANGBASAAjah',\n",
       "       'AXISAjah', 'AboruIpaja', 'KETUKetu', 'ZONELekki', 'PALACEIsolo',\n",
       "       'estateShomolu', 'SCHOOLIkorodu', 'FADEYIMushin', 'ROAD,Lekki',\n",
       "       'ESTATEIkorodu', 'estateIpaja', 'DabiriSangotedo', 'IkejaMaryland',\n",
       "       '1Ikoyi', 'Surulere.Surulere', 'street,Ilupeju', 'LagosLekki',\n",
       "       'ilupejuIlupeju', 'GardenLekki', 'Estate,Gbagada', 'Orchid,Lekki',\n",
       "       'AntonyIkeja', 'BergerOjodu', '...Iju', 'courtLekki',\n",
       "       'paradiseLekki', 'B/stop,Mushin', 'schemeAjah', 'streetMushin',\n",
       "       '2Lekki', 'StreetLekki', 'crescentLekki', 'PinnockLekki',\n",
       "       'Demurin,ketu,lagosKetu', 'IdadoLekki', 'Igbo-EfonLekki',\n",
       "       'AmusaLekki', 'ViewLekki', '.Ikoyi', 'avenueIkoyi', 'gloverIkoyi',\n",
       "       'AlexandraIkoyi', 'WaterfrontIkoyi', 'streetLekki', 'RDIkoyi',\n",
       "       'schoolAjah', 'GRAOgudu', 'ilupejuYaba', 'ijeshaYaba', 'mettaYaba',\n",
       "       'areaEjigbo', 'IfakoGbagada', 'AjuwonIju', 'EstateApapa',\n",
       "       'hotelOgba', 'RoadIlupeju', 'IlupejuIlupeju', 'HotelIkeja',\n",
       "       'RoadKetu', '...Apapa', 'Alagomeji.Yaba', '...Ikorodu',\n",
       "       'roadOgudu', 'foreshoreLekki', 'phase1Ikeja', 'AwofesorShomolu',\n",
       "       'rentingIkeja', 'TOWNLekki', 'OpicOjodu', 'ikejaIkeja',\n",
       "       'streetShomolu', 'ESTATEGbagada', 'adebayoKetu', 'OgbaIkeja',\n",
       "       'saboIkorodu', 'expressSangotedo', 'RdEjigbo', 'sandIsolo',\n",
       "       'RoadOjodu', 'LagosIkeja', 'AIkeja', 'adaramajaYaba',\n",
       "       'AlagomejiYaba', 'OpebiIkeja', 'AkokaYaba', 'AdaramajaYaba',\n",
       "       'costYaba', '2Gbagada', 'BAWONSurulere', 'ElegushiAjah',\n",
       "       'AdekunleYaba', 'FolagoroYaba', 'JibowuYaba',\n",
       "       'akpata/pedroShomolu', 'BarigaShomolu', 'areaLekki', 'OloworaOgba',\n",
       "       'agegeAgege', 'ogbaIju', 'SeriesLekki', 'FaloluSurulere',\n",
       "       'OBAWOLEIju', 'Ibafon.Apapa', '...Sangotedo', ')Lekki',\n",
       "       'YabatechYaba', 'streetIkeja', 'SaboOjodu', 'EstatesLekki',\n",
       "       'HiIlupeju', '..Ikorodu', 'estateSangotedo', 'tipperKetu',\n",
       "       'Iju.Iju', 'Obawole.Iju', 'LagosOshodi', 'WAY.Yaba',\n",
       "       'EstateIlupeju', 'AvenueIlupeju', 'closeIlupeju', 'LAGOSSangotedo',\n",
       "       'LagosYaba', 'LawsonIkoyi', 'sideLekki', 'magodoIkeja', 'AfaIsolo',\n",
       "       'junctionYaba', 'VillaLekki', 'LekkiAjah', 'OduduwaSurulere',\n",
       "       'twoIkoyi', 'junctionAjah', 'forstAjah', 'junction.Lekki',\n",
       "       'alabi.Ogba', 'OshodiOshodi', '(Lekki)Lekki', 'OgunOshodi',\n",
       "       '....Surulere', 'estateIkeja', 'expresswayYaba', 'LagosSurulere',\n",
       "       '...Ikeja', '....Maryland', 'iyanaipajaAlimosho', 'GowonAlimosho',\n",
       "       'streetOjodu', 'lagosKetu', 'BodethomasSurulere',\n",
       "       'IdiarabaSurulere', 'GRAKetu', 'ishagaSurulere', 'kosiKetu',\n",
       "       'Alapere,Ojota', 'Ind.Mushin', 'road,Shomolu',\n",
       "       'Palmgroove,Ilupeju', 'Fagba,Iju', 'Fagba,Ojodu',\n",
       "       'marylandMaryland', 'jonesIkeja', 'routeLekki', 'LUTHSurulere',\n",
       "       'BrothersSurulere', 'Alapere,Ketu', 'Road,Surulere',\n",
       "       'AlapereOgudu', 'Orioke,Ogudu', 'LafiajiLekki', 'PedroGbagada',\n",
       "       'Road,Lekki', 'FagbaIju', 'gardensAjah', 'hospitalGbagada',\n",
       "       'ObanikoroMaryland', 'AvenueIkeja', 'ExpresswayLekki',\n",
       "       'StateAlimosho', 'anthonyMaryland', 'Ori-OlaKetu', 'HuMaryland',\n",
       "       'Olusosun,Ojota', 'bustopKetu', 'street,Gbagada', 'SawmillGbagada',\n",
       "       'sangotedoAjah', 'LADLAKShomolu', 'OlubiSurulere', 'RoadSurulere',\n",
       "       '....Lekki', 'LadylakGbagada', 'luckKetu', 'pedroShomolu',\n",
       "       '-comaSangotedo', 'EnxtentionLekki', 'ArunaOgba', 'OnipetesiAgege',\n",
       "       'ikateSurulere', 'closeOshodi', 'JohnYaba', 'LadylackShomolu',\n",
       "       'alternativeAjah', 'techYaba', 'surureleSurulere', 'MorrocoYaba',\n",
       "       'LuthSurulere', 'streetIju', 'OkeKetu', 'OkotaIsolo', 'areaOgba',\n",
       "       'roadIkorodu', 'SupermarketSurulere', 'MartSurulere',\n",
       "       'LiasuAlimosho', 'lackShomolu', 'IjeshaYaba', 'p.a)Ilupeju',\n",
       "       '-Ikorodu', '....Ojodu', 'ShomoluYaba', 'LagosAgege',\n",
       "       'Shomolu.Shomolu', 'AdelabuSurulere', 'duplexLekki', '....Ajah',\n",
       "       'SchoolAjah', 'IkoroduIkorodu', 'EganAlimosho', 'roadAlimosho',\n",
       "       'areaOjodu', 'RdYaba', 'road,Lekki', 'BrownGbagada',\n",
       "       'OgunsanyaSurulere', 'EstateIpaja', 'PizzaGbagada', 'HarunaOgba',\n",
       "       'RestaurantSurulere', 'AkiodeOjodu', 'creamOjodu', 'lagosYaba',\n",
       "       'streeOshodi', 'Stop),Ajah', '....Shomolu', 'yabatechShomolu',\n",
       "       'GRA,Ikeja', 'AvenueOjota', 'oshodiOshodi', 'WayIsolo',\n",
       "       'avenueIlupeju', 'JuAjah', 'Lafiaji,Lekki', 'SholuyiGbagada',\n",
       "       'IwayaYaba', 'SoluyiGbagada', 'luckOgudu', 'OjaYaba',\n",
       "       'lafiajiLekki', 'centerLekki', 'MendeMaryland',\n",
       "       'OnigbongboMaryland', 'WayIkeja', 'ObanikoroIlupeju', 'RoadOshodi',\n",
       "       'peninsulaLekki', '-Ejigbo', 'LondonLekki', 'OdofinIsolo',\n",
       "       'ItireSurulere', 'onirinKetu', 'Magodo,Ikeja', '..Ikoyi',\n",
       "       'AkuteOjodu', '..Lekki', 'MagodoIkeja', 'MeiranAlimosho',\n",
       "       'estateSurulere', 'supermarketAjah', 'akereleSurulere',\n",
       "       'StopIlupeju', 'VillageSurulere', 'expyGbagada', 'balogunIju',\n",
       "       'egbaAgege', '..Gbagada', 'IkijaShomolu', 'IIAjah',\n",
       "       'baaleAlimosho', 'kolaAlimosho', 'karounwinSurulere',\n",
       "       'ikolaAlimosho', 'LadipoKetu', 'EkololuSurulere', 'homeLekki',\n",
       "       'IKoyiIkoyi', '..Ogudu', 'BAMAKOOjodu', 'estateIlupeju',\n",
       "       'EastYaba', 'Bus-StopIju', 'Iju-RoadIju', 'StationSangotedo',\n",
       "       'AyGbagada', '..Yaba', '.Lekki', 'ChurchAjah', 'Road)Ikoyi',\n",
       "       'Oke-alo,Gbagada', 'NYSCIpaja', 'oguntoluShomolu', 'CleggYaba',\n",
       "       'osinfolarenShomolu', 'bankAjah', 'beachLekki', 'ObeleSurulere',\n",
       "       'ClinicGbagada', 'HuSurulere', 'layoutIkeja', 'MobilGbagada',\n",
       "       'marcaulayYaba', '..Ogba', 'salemLekki', 'MorokoYaba',\n",
       "       'estate)Ajah', 'jebbaYaba', 'AvenueSurulere', 'viewLekki',\n",
       "       'HyLekki', 'EstateIkorodu', 'roadKetu', 'Area.Yaba',\n",
       "       'lekki-ajahAjah', '..Ojodu', '..Ajah', '..Surulere', '-Apapa',\n",
       "       'VillaAjah', 'About,Ajah', 'Estate,Ajah', 'LBS)Ajah',\n",
       "       'chevronAjah', 'oreyoIkorodu', '-Isolo', '..Okota', 'KuyeSurulere',\n",
       "       'captainAlimosho', 'OtubuAgege', 'PefroGbagada', 'meiranAlimosho',\n",
       "       'houseIkorodu', 'Elegushi,Lekki'], dtype=object)"
      ]
     },
     "execution_count": 8,
     "metadata": {},
     "output_type": "execute_result"
    }
   ],
   "source": [
    "rent['area'] = rent['location'].str.split(\" \").str[-2]\n",
    "rent['area'].unique()"
   ]
  },
  {
   "cell_type": "markdown",
   "metadata": {},
   "source": [
    "#### Taking away some of the properties we don't want included in our data, such as Land, School, Hotel etc"
   ]
  },
  {
   "cell_type": "code",
   "execution_count": 9,
   "metadata": {},
   "outputs": [],
   "source": [
    "unwanted_props = rent[rent['title'].str.contains('LAND|EVENT CENTRE|BLOCKS OF FLAT|CHURCH|BEDROOM HOUSE|\\\n",
    "                                                 SCHOOL|SHORTLET|FACTORY|COMMERCIAL PROPERTY|HOTEL|GUEST|FARM|SHOW|\\\n",
    "                                                 ')].index"
   ]
  },
  {
   "cell_type": "code",
   "execution_count": 10,
   "metadata": {},
   "outputs": [
    {
     "data": {
      "text/plain": [
       "(44928, 11)"
      ]
     },
     "execution_count": 10,
     "metadata": {},
     "output_type": "execute_result"
    }
   ],
   "source": [
    "rent = rent.drop(unwanted_props)\n",
    "rent.shape"
   ]
  },
  {
   "cell_type": "markdown",
   "metadata": {},
   "source": [
    "#### Taking away same properties that were repeated"
   ]
  },
  {
   "cell_type": "code",
   "execution_count": 11,
   "metadata": {},
   "outputs": [],
   "source": [
    "rent.drop_duplicates(inplace = True)"
   ]
  },
  {
   "cell_type": "code",
   "execution_count": 12,
   "metadata": {
    "scrolled": false
   },
   "outputs": [
    {
     "data": {
      "text/plain": [
       "array(['3 BEDROOM TERRACED DUPLEX HOUSE FOR RENT',\n",
       "       '4 BEDROOM SEMI DETACHED DUPLEX HOUSE FOR RENT',\n",
       "       '3 BEDROOM FLAT / APARTMENT FOR RENT',\n",
       "       '2 BEDROOM FLAT / APARTMENT FOR RENT',\n",
       "       '5 BEDROOM DETACHED DUPLEX HOUSE FOR RENT',\n",
       "       '4 BEDROOM TERRACED DUPLEX HOUSE FOR RENT',\n",
       "       '3 BEDROOM MASSIONETTE HOUSE FOR RENT',\n",
       "       '4 BEDROOM FLAT / APARTMENT FOR RENT',\n",
       "       '4 BEDROOM MASSIONETTE HOUSE FOR RENT',\n",
       "       '3 BEDROOM SEMI DETACHED DUPLEX HOUSE FOR RENT',\n",
       "       '4 BEDROOM DETACHED DUPLEX HOUSE FOR RENT',\n",
       "       '5 BEDROOM SEMI DETACHED DUPLEX HOUSE FOR RENT',\n",
       "       '2 BEDROOM MINI FLAT FLAT / APARTMENT FOR RENT',\n",
       "       '3 BEDROOM MINI FLAT FLAT / APARTMENT FOR RENT',\n",
       "       '3 BEDROOM DETACHED BUNGALOW HOUSE FOR RENT',\n",
       "       '6 BEDROOM DETACHED DUPLEX HOUSE FOR RENT',\n",
       "       '1 BEDROOM MINI FLAT FLAT / APARTMENT FOR RENT',\n",
       "       '1 BEDROOM MINI FLAT MINI FLAT FLAT / APARTMENT FOR RENT',\n",
       "       '4 BEDROOM PENTHOUSE FLAT / APARTMENT FOR RENT',\n",
       "       '1 BEDROOM MINI FLAT SELF CONTAIN FLAT / APARTMENT FOR RENT',\n",
       "       'MINI FLAT FLAT / APARTMENT FOR RENT',\n",
       "       '5 BEDROOM PENTHOUSE FLAT / APARTMENT FOR RENT',\n",
       "       'SELF CONTAIN FLAT / APARTMENT FOR RENT',\n",
       "       'FLAT / APARTMENT FOR RENT',\n",
       "       '8 BEDROOM DETACHED DUPLEX HOUSE FOR RENT',\n",
       "       '2 BEDROOM SHARED APARTMENT FLAT / APARTMENT FOR RENT',\n",
       "       '2 BEDROOM TERRACED DUPLEX HOUSE FOR RENT',\n",
       "       '6 BEDROOM SEMI DETACHED DUPLEX HOUSE FOR RENT',\n",
       "       '3 BEDROOM STUDIO APARTMENT FLAT / APARTMENT FOR RENT',\n",
       "       '2 BEDROOM SEMI DETACHED DUPLEX HOUSE FOR RENT',\n",
       "       '3 BEDROOM BOYS QUARTERS FLAT / APARTMENT FOR RENT',\n",
       "       '2 BEDROOM PENTHOUSE FLAT / APARTMENT FOR RENT',\n",
       "       'DETACHED DUPLEX HOUSE FOR RENT',\n",
       "       '5 BEDROOM TERRACED DUPLEX HOUSE FOR RENT',\n",
       "       'CO WORKING SPACE FOR RENT',\n",
       "       'PRIVATE OFFICE CO WORKING SPACE FOR RENT',\n",
       "       '1 BEDROOM MINI FLAT SHARED APARTMENT FLAT / APARTMENT FOR RENT',\n",
       "       '3 BEDROOM PENTHOUSE FLAT / APARTMENT FOR RENT',\n",
       "       '2 BEDROOM MASSIONETTE HOUSE FOR RENT',\n",
       "       '2 BEDROOM BOYS QUARTERS FLAT / APARTMENT FOR RENT',\n",
       "       '6 BEDROOM DETACHED BUNGALOW HOUSE FOR RENT', 'HOUSE FOR RENT',\n",
       "       '7 BEDROOM DETACHED DUPLEX HOUSE FOR RENT',\n",
       "       '4 BEDROOM DETACHED BUNGALOW HOUSE FOR RENT',\n",
       "       'TERRACED DUPLEX HOUSE FOR RENT',\n",
       "       '3 BEDROOM SHARED APARTMENT FLAT / APARTMENT FOR RENT',\n",
       "       '2 BEDROOM SELF CONTAIN FLAT / APARTMENT FOR RENT',\n",
       "       '3 BEDROOM TERRACED BUNGALOW HOUSE FOR RENT',\n",
       "       '4 BEDROOM SELF CONTAIN FLAT / APARTMENT FOR RENT',\n",
       "       '4 BEDROOM SEMI DETACHED BUNGALOW HOUSE FOR RENT',\n",
       "       '1 BEDROOM MINI FLAT STUDIO APARTMENT FLAT / APARTMENT FOR RENT',\n",
       "       'STUDIO APARTMENT FLAT / APARTMENT FOR RENT',\n",
       "       '10 BEDROOM DETACHED DUPLEX HOUSE FOR RENT',\n",
       "       '5 BEDROOM DETACHED BUNGALOW HOUSE FOR RENT',\n",
       "       '1 BEDROOM MINI FLAT BOYS QUARTERS FLAT / APARTMENT FOR RENT',\n",
       "       '3 BEDROOM SELF CONTAIN FLAT / APARTMENT FOR RENT',\n",
       "       '10 BEDROOM MASSIONETTE HOUSE FOR RENT',\n",
       "       'DETACHED BUNGALOW HOUSE FOR RENT',\n",
       "       '3 BEDROOM DETACHED DUPLEX HOUSE FOR RENT',\n",
       "       '2 BEDROOM DETACHED BUNGALOW HOUSE FOR RENT',\n",
       "       '3 BEDROOM SEMI DETACHED BUNGALOW HOUSE FOR RENT',\n",
       "       'SHARED APARTMENT FLAT / APARTMENT FOR RENT',\n",
       "       'DESK CO WORKING SPACE FOR RENT',\n",
       "       '2 BEDROOM SEMI DETACHED BUNGALOW HOUSE FOR RENT',\n",
       "       '5 BEDROOM FLAT / APARTMENT FOR RENT',\n",
       "       '1 BEDROOM MINI FLAT HOUSE FOR RENT',\n",
       "       '6 BEDROOM MASSIONETTE HOUSE FOR RENT',\n",
       "       'SEMI DETACHED DUPLEX HOUSE FOR RENT',\n",
       "       '1 BEDROOM MINI FLAT SEMI DETACHED DUPLEX HOUSE FOR RENT',\n",
       "       '4 BEDROOM SHARED APARTMENT FLAT / APARTMENT FOR RENT',\n",
       "       'PENTHOUSE FLAT / APARTMENT FOR RENT',\n",
       "       '2 BEDROOM STUDIO APARTMENT FLAT / APARTMENT FOR RENT',\n",
       "       '4 BEDROOM STUDIO APARTMENT FLAT / APARTMENT FOR RENT',\n",
       "       '1 BEDROOM MINI FLAT PENTHOUSE FLAT / APARTMENT FOR RENT',\n",
       "       '2 BEDROOM DETACHED DUPLEX HOUSE FOR RENT',\n",
       "       'CONFERENCE ROOM CO WORKING SPACE FOR RENT',\n",
       "       'SEMI DETACHED BUNGALOW HOUSE FOR RENT',\n",
       "       'WORKSTATION CO WORKING SPACE FOR RENT',\n",
       "       '5 BEDROOM DUPLEX FOR RENT',\n",
       "       '1 BEDROOM MINI FLAT SELF CONTAIN FOR RENT',\n",
       "       '3 BEDROOM BLOCK OF FLAT FOR RENT',\n",
       "       'BOYS QUARTERS FLAT / APARTMENT FOR RENT',\n",
       "       '5 BEDROOM DETACHED HOUSE FOR RENT', 'BLOCK OF FLAT FOR RENT',\n",
       "       '2 BEDROOM BLOCK OF FLAT FOR RENT',\n",
       "       '8 BEDROOM DETACHED BUNGALOW HOUSE FOR RENT',\n",
       "       '9 BEDROOM DETACHED BUNGALOW HOUSE FOR RENT',\n",
       "       '6 BEDROOM FLAT / APARTMENT FOR RENT',\n",
       "       'MASSIONETTE HOUSE FOR RENT',\n",
       "       '3 BEDROOM PRIVATE OFFICE CO WORKING SPACE FOR RENT',\n",
       "       '6 BEDROOM TERRACED DUPLEX HOUSE FOR RENT',\n",
       "       '3 BEDROOM DUPLEX FOR RENT', '3 BEDROOM TERRACE FOR RENT',\n",
       "       '1 BEDROOM MINI FLAT PRIVATE OFFICE CO WORKING SPACE FOR RENT',\n",
       "       '1 BEDROOM MINI FLAT TERRACED DUPLEX HOUSE FOR RENT',\n",
       "       '1 BEDROOM MINI FLAT DETACHED BUNGALOW HOUSE FOR RENT',\n",
       "       '5 BEDROOM SELF CONTAIN FLAT / APARTMENT FOR RENT',\n",
       "       '1 BEDROOM MINI FLAT SEMI DETACHED BUNGALOW HOUSE FOR RENT',\n",
       "       '1 BEDROOM MINI FLAT DUPLEX FOR RENT', 'DETACHED HOUSE FOR RENT',\n",
       "       '4 BEDROOM TERRACED BUNGALOW HOUSE FOR RENT',\n",
       "       '5 BEDROOM SHARED APARTMENT FLAT / APARTMENT FOR RENT',\n",
       "       '3 BEDROOM CONFERENCE ROOM CO WORKING SPACE FOR RENT',\n",
       "       '6 BEDROOM MINI FLAT FLAT / APARTMENT FOR RENT',\n",
       "       '1 BEDROOM MINI FLAT DETACHED DUPLEX HOUSE FOR RENT',\n",
       "       '4 BEDROOM WORKSTATION CO WORKING SPACE FOR RENT',\n",
       "       '5 BEDROOM MASSIONETTE HOUSE FOR RENT',\n",
       "       '10 BEDROOM DETACHED BUNGALOW HOUSE FOR RENT',\n",
       "       '5 BEDROOM SEMI DETACHED BUNGALOW HOUSE FOR RENT',\n",
       "       '10 BEDROOM FLAT / APARTMENT FOR RENT',\n",
       "       '4 BEDROOM MINI FLAT FLAT / APARTMENT FOR RENT',\n",
       "       '2 BEDROOM TERRACED BUNGALOW HOUSE FOR RENT',\n",
       "       '3 BEDROOM OFFICE SPACE FOR RENT',\n",
       "       '7 BEDROOM SEMI DETACHED DUPLEX HOUSE FOR RENT',\n",
       "       '4 BEDROOM BLOCK OF FLAT FOR RENT',\n",
       "       '10 BEDROOM PENTHOUSE FLAT / APARTMENT FOR RENT',\n",
       "       '9 BEDROOM TERRACED DUPLEX HOUSE FOR RENT',\n",
       "       '4 BEDROOM BOYS QUARTERS FLAT / APARTMENT FOR RENT',\n",
       "       '1 BEDROOM MINI FLAT WORKSTATION CO WORKING SPACE FOR RENT',\n",
       "       '8 BEDROOM SEMI DETACHED DUPLEX HOUSE FOR RENT',\n",
       "       '7 BEDROOM MASSIONETTE HOUSE FOR RENT',\n",
       "       '5 BEDROOM MINI FLAT FLAT / APARTMENT FOR RENT',\n",
       "       '7 BEDROOM FLAT / APARTMENT FOR RENT',\n",
       "       '3 BEDROOM DESK CO WORKING SPACE FOR RENT',\n",
       "       '9 BEDROOM DETACHED DUPLEX HOUSE FOR RENT',\n",
       "       '1 BEDROOM MINI FLAT FACE TO FACE FOR RENT',\n",
       "       '9 BEDROOM SEMI DETACHED DUPLEX HOUSE FOR RENT',\n",
       "       '6 BEDROOM PENTHOUSE FLAT / APARTMENT FOR RENT',\n",
       "       '1 BEDROOM MINI FLAT DESK CO WORKING SPACE FOR RENT',\n",
       "       '8 BEDROOM SHARED APARTMENT FLAT / APARTMENT FOR RENT',\n",
       "       '2 BEDROOM CONFERENCE ROOM CO WORKING SPACE FOR RENT',\n",
       "       '10 BEDROOM BOYS QUARTERS FLAT / APARTMENT FOR RENT',\n",
       "       '10 BEDROOM TERRACED DUPLEX HOUSE FOR RENT',\n",
       "       '4 BEDROOM DUPLEX FOR RENT',\n",
       "       '7 BEDROOM DETACHED BUNGALOW HOUSE FOR RENT',\n",
       "       '1 BEDROOM MINI FLAT TERRACED BUNGALOW HOUSE FOR RENT',\n",
       "       '1 BEDROOM MINI FLAT BLOCK OF FLAT FOR RENT',\n",
       "       '10 BEDROOM MINI FLAT FLAT / APARTMENT FOR RENT',\n",
       "       '10 BEDROOM SELF CONTAIN FLAT / APARTMENT FOR RENT',\n",
       "       '9 BEDROOM FLAT / APARTMENT FOR RENT',\n",
       "       '2 BEDROOM PRIVATE OFFICE CO WORKING SPACE FOR RENT',\n",
       "       '1 BEDROOM MINI FLAT CONFERENCE ROOM CO WORKING SPACE FOR RENT',\n",
       "       '9 BEDROOM MASSIONETTE HOUSE FOR RENT',\n",
       "       '6 BEDROOM SEMI DETACHED BUNGALOW HOUSE FOR RENT',\n",
       "       '5 BEDROOM WORKSTATION CO WORKING SPACE FOR RENT'], dtype=object)"
      ]
     },
     "execution_count": 12,
     "metadata": {},
     "output_type": "execute_result"
    }
   ],
   "source": [
    "rent['title'].unique()"
   ]
  },
  {
   "cell_type": "markdown",
   "metadata": {},
   "source": [
    "#### Assigning a uniformed name to each property in the data"
   ]
  },
  {
   "cell_type": "code",
   "execution_count": 13,
   "metadata": {},
   "outputs": [],
   "source": [
    "conditions = [\n",
    "    (rent['title'].str.contains('DUPLEX')),\n",
    "    (rent['title'].str.contains('BEDROOM FLAT')),\n",
    "    (rent['title'].str.contains('SHOP')),\n",
    "    (rent['title'].str.contains('OFFICE')),\n",
    "    (rent['title'].str.contains('MASSIONETTE')),\n",
    "    (rent['title'].str.contains('PENTHOUSE')),\n",
    "    (rent['title'].str.contains('BUNGALOW')),\n",
    "    (rent['title'].str.contains('SHARED')),\n",
    "    (rent['title'].str.contains('STUDIO')),\n",
    "    (rent['title'].str.contains('BOYS')),\n",
    "    (rent['title'].str.contains('WORKING')),\n",
    "    (rent['title'].str.contains('WAREHOUSE')),\n",
    "    (rent['title'].str.contains('SELF CONTAIN')),\n",
    "    (rent['title'].str.contains('DETACHED HOUSE')),\n",
    "    (rent['title'].str.contains('MINI FLAT FLAT')),\n",
    "    (rent['title'].str.contains('BEDROOM BLOCK')),\n",
    "    (rent['title'].str.contains('BLOCK OF FLAT')),\n",
    "    (rent['title'] == 'FLAT / APARTMENT FOR RENT'),\n",
    "    (rent['title'] == 'HOUSE FOR RENT'),\n",
    "    (rent['title'].str.contains('BEDROOM MINI FLAT HOUSE')),\n",
    "    (rent['title'].str.contains('BEDROOM TERRACE FOR RENT')),\n",
    "    (rent['title'].str.contains('MINI FLAT FACE'))\n",
    "    \n",
    "]\n",
    "\n",
    "values = ['Duplex','Flat','Shop','Office Space','Masionette','Penthouse','Bungalow','Shared Apartment',\n",
    "         'Studio Apartment','BQ Flat','Office Space','Warehouse','Self Contain','Duplex','Mini Flat','Flat',\n",
    "         'Flat','Flat','Others not specified','Mini Flat','Duplex','Mini Flat']"
   ]
  },
  {
   "cell_type": "code",
   "execution_count": 14,
   "metadata": {},
   "outputs": [
    {
     "data": {
      "text/plain": [
       "array(['Duplex', 'Flat', 'Masionette', 'Mini Flat', 'Bungalow',\n",
       "       'Penthouse', 'Self Contain', 'Shared Apartment',\n",
       "       'Studio Apartment', 'BQ Flat', 'Office Space',\n",
       "       'Others not specified'], dtype=object)"
      ]
     },
     "execution_count": 14,
     "metadata": {},
     "output_type": "execute_result"
    }
   ],
   "source": [
    "rent['prop_type'] = np.select(conditions,values)\n",
    "rent['prop_type'].unique()"
   ]
  },
  {
   "cell_type": "code",
   "execution_count": 15,
   "metadata": {},
   "outputs": [],
   "source": [
    "rent.reset_index(drop = True, inplace = True)"
   ]
  },
  {
   "cell_type": "markdown",
   "metadata": {},
   "source": [
    "#### After extracting the areas from the location column, the area column still looks dirty, inconsistent, and not good enough for analysis. Example is having (',lekkilekki', 'estate') and so on.\n",
    "#### So we are exporting the location and area data to excel to do a proper assignment of areas to the different locations."
   ]
  },
  {
   "cell_type": "code",
   "execution_count": 16,
   "metadata": {},
   "outputs": [],
   "source": [
    "location = rent[['location','area']]\n",
    "location.to_csv('location.csv')"
   ]
  },
  {
   "cell_type": "markdown",
   "metadata": {},
   "source": [
    "#### We have done the proper assignment of each location and we have named the file 'location_match\n",
    "#### This gives us a clean data of the area of each property"
   ]
  },
  {
   "cell_type": "code",
   "execution_count": 17,
   "metadata": {},
   "outputs": [],
   "source": [
    "location_match = pd.read_csv(\"location match csv.csv\")"
   ]
  },
  {
   "cell_type": "code",
   "execution_count": 18,
   "metadata": {},
   "outputs": [
    {
     "data": {
      "text/html": [
       "<div>\n",
       "<style scoped>\n",
       "    .dataframe tbody tr th:only-of-type {\n",
       "        vertical-align: middle;\n",
       "    }\n",
       "\n",
       "    .dataframe tbody tr th {\n",
       "        vertical-align: top;\n",
       "    }\n",
       "\n",
       "    .dataframe thead th {\n",
       "        text-align: right;\n",
       "    }\n",
       "</style>\n",
       "<table border=\"1\" class=\"dataframe\">\n",
       "  <thead>\n",
       "    <tr style=\"text-align: right;\">\n",
       "      <th></th>\n",
       "      <th>location</th>\n",
       "      <th>match</th>\n",
       "    </tr>\n",
       "  </thead>\n",
       "  <tbody>\n",
       "    <tr>\n",
       "      <th>0</th>\n",
       "      <td>Horizon 2 Extension EstateIkate Lekki Lagos</td>\n",
       "      <td>Ikate Lekki</td>\n",
       "    </tr>\n",
       "    <tr>\n",
       "      <th>1</th>\n",
       "      <td>OFF AHMADU BELLO WAYAhmadu Bello Way Victoria ...</td>\n",
       "      <td>Victoria Island</td>\n",
       "    </tr>\n",
       "    <tr>\n",
       "      <th>2</th>\n",
       "      <td>CENTRAL IKOYIOld Ikoyi Ikoyi Lagos</td>\n",
       "      <td>Old Ikoyi</td>\n",
       "    </tr>\n",
       "    <tr>\n",
       "      <th>3</th>\n",
       "      <td>Oju Olobun StreetVictoria Island Lagos</td>\n",
       "      <td>Victoria Island</td>\n",
       "    </tr>\n",
       "    <tr>\n",
       "      <th>4</th>\n",
       "      <td>Off chief Yesufu Abiodun Oniru Victoria Island...</td>\n",
       "      <td>Victoria Island</td>\n",
       "    </tr>\n",
       "  </tbody>\n",
       "</table>\n",
       "</div>"
      ],
      "text/plain": [
       "                                            location            match\n",
       "0        Horizon 2 Extension EstateIkate Lekki Lagos      Ikate Lekki\n",
       "1  OFF AHMADU BELLO WAYAhmadu Bello Way Victoria ...  Victoria Island\n",
       "2                 CENTRAL IKOYIOld Ikoyi Ikoyi Lagos        Old Ikoyi\n",
       "3             Oju Olobun StreetVictoria Island Lagos  Victoria Island\n",
       "4  Off chief Yesufu Abiodun Oniru Victoria Island...  Victoria Island"
      ]
     },
     "execution_count": 18,
     "metadata": {},
     "output_type": "execute_result"
    }
   ],
   "source": [
    "location_match.head()"
   ]
  },
  {
   "cell_type": "code",
   "execution_count": 19,
   "metadata": {},
   "outputs": [
    {
     "data": {
      "text/plain": [
       "array(['Ikate Lekki', 'Victoria Island', 'Old Ikoyi', 'Surulere', 'Ikoyi',\n",
       "       'Parkview Ikoyi', 'OPIC Ojodu', 'Banana Island Ikoyi',\n",
       "       'Osbourne Ikoyi', 'Maryland', 'Ebute Metta Yaba', 'Sangotedo Ajah',\n",
       "       'Ikota Lekki', 'Lekki', 'Ajah', 'GRA Ikeja', 'Phase 1 Lekki',\n",
       "       'Ifako Gbagada', 'Phase 1 Gbagada', 'Abijo Ajah', 'Fagba',\n",
       "       'Chevron Lekki', 'Sabo Yaba', 'Alagomeji Yaba', 'Lekki Right',\n",
       "       'Gbagada', 'Baruwa Ipaja', 'Ipaja', 'Second Tollgate Lekki',\n",
       "       'Jakande Lekki', 'Marwa Lekki', 'Idado Lekki', 'Alausa Ikeja',\n",
       "       'Osapa London Lekki', 'Iponri Surulere', 'Ojodu', 'Lawanson',\n",
       "       'Soluyi Gbagada', 'Awoyaya Ajah', 'Lakowe Ajah', 'Idimu',\n",
       "       'Nicon Town Lekki', 'Ilasan Lekki', 'Agungi Lekki', 'Iwaya Yaba',\n",
       "       'VGC Lekki', 'Anthony Village', 'GRA Ogudu', 'Ologolo Lekki',\n",
       "       'Kajola Lekki', 'Lekki Gardens', 'Adeniyi Jones Ikeja', 'Yaba',\n",
       "       'Ilaje Ajah', 'Bucknor Isolo', 'Oke Afa Isolo', 'Ago Palace Okota',\n",
       "       'Okota', 'Ajao Estate Isolo', 'Isolo', 'Abule Egba',\n",
       "       'Amuwo Odofin', 'Ire Akari Isolo', 'Ejigbo', 'Igando', 'Ikeja',\n",
       "       'Fola Agoro Yaba', 'Adekunle Yaba', 'Abule Oja Yaba',\n",
       "       'Palmgroove Shomolu', 'Abule Ijesha Yaba', 'Shomolu', 'Akoka Yaba',\n",
       "       'Onike Yaba', 'Obanikoro Shomolu', 'Ogudu', 'Onipanu Shomolu',\n",
       "       'Morocco Yaba', 'Iju Ishaga', 'Bariga Shomolu', 'Ketu Alapere',\n",
       "       'Shangisha', 'Magodo', 'Ketu', 'Magodo Phase 2', 'Magodo Phase 1',\n",
       "       'Ikosi Ketu', 'Badore Ajah', 'Opebi Ikeja', 'Oko Oba Agege',\n",
       "       'Lekki Phase 2', 'GRA Yaba', 'Pedro Shomolu', 'Isawo Ikorodu',\n",
       "       'Obawole Ogba', 'Kujore Ogudu', 'Ogba', 'Agric Ikorodu',\n",
       "       'Iyana Ipaja', 'Pen Cinema Agege', 'Toyin Ikeja', 'Alagbado',\n",
       "       'Oworonshoki', 'Mangoro', 'Oregun Ikeja', 'Ilupeju',\n",
       "       'Olokonla Ajah', 'Ibeju Lekki', 'Igbo Efon Lekki', 'Allen Ikeja',\n",
       "       'Jibowu Yaba', 'Orike Ogudu', 'Berger Ojodu', 'Aboru Ipaja',\n",
       "       'Pedro Gbagada', 'Ifako Ogba', 'Aguda Ogba', 'Egbeda',\n",
       "       'Lagos Island', 'Command Ipaja', 'Ayobo Ipaja', 'Ado Ajah',\n",
       "       'Mushin', 'Medina Gbagada', 'Aguda Surulere', 'Costain', 'Epe',\n",
       "       'Ajiwe Ajah', 'Parafa Ikorodu', 'Apapa', 'Falomo Ikoyi', 'Akesan',\n",
       "       'Arepo Berger', 'Tejuosho Yaba', 'Ilasamaja Mushin',\n",
       "       'Ipakodo Ikorodu', 'Badagry', 'Sabo Ikorodu', 'Agege', 'Akowonjo',\n",
       "       'Ikola Ipaja', 'Igbogbo Ikorodu', 'Olowora Ojodu', 'Shasha',\n",
       "       'Meiran', 'Ekoro', 'Obalende', 'Ajasa Command', 'Idiaraba Mushin',\n",
       "       'Balogun Ikeja', 'Itamaga Ikorodu', 'Alimosho', 'Eleganza Lekki',\n",
       "       'Ahmadiyya Abule Egba', 'Oshodi', 'Ogolonto Ikorodu',\n",
       "       'Agidingbi Ikeja', 'Mafoluku Oshodi', 'Alagbole Ojodu',\n",
       "       'Ebute Ikorodu', 'Ojuelegba', 'Oke Ira Ogba', 'Epetedo Ogudu',\n",
       "       'Omole Phase 1', 'GRA Ogba', 'Ogombo Ajah', 'Alakuko',\n",
       "       'Eyita Ikorodu', 'Elegushi', 'Yakoyo Ojodu', 'Orile Agege',\n",
       "       'Oba Akran Ikeja', 'Ojota', 'Jankara Abule Egba', 'Dopemu',\n",
       "       'Airport Road', 'Ijaiye', 'Oke Odo Abule Egba', 'Marsha Surulere',\n",
       "       'Agbara', 'Ojo', 'Ijede Ikorodu', 'Kola Alagbado',\n",
       "       'Lucky Fibre Ikorodu', 'Ijoko', 'Ikotun', 'Owode Ibeshe Ikorodu',\n",
       "       'Haruna Ikorodu', 'Agbele Ikorodu', 'Jumofak Ikorodu',\n",
       "       'Erunwen Ikorodu', 'Akute', 'Cement Ikeja', 'Iganmu',\n",
       "       'Iyana Oworo', 'Onikan', 'Ikorodu', 'Ladipo Mushin', 'Ayetoro',\n",
       "       'Eleko', 'Oke Aro', 'Itele', 'Okun Ajah', 'Ajegunle Alagbado',\n",
       "       'Amule Ipaja', 'Ijesha Surulere', 'Gra Ogba', 'Gberigbe Ikorodu',\n",
       "       'Adelabu Surulere', 'Omole Phase 2', 'Elepe Ikorodu', 'Okokomaiko',\n",
       "       'Lafiaji', 'Owode Ajah', 'Oreyo Ikorodu', 'Ijegun',\n",
       "       'Satellite Town', 'Ita Oluwo Ikorodu', 'Mile 12', 'Maya Ikorodu',\n",
       "       'ajah', 'Odongunyan Ikorodu', 'Shogunle', 'Langbasa Ajah',\n",
       "       'Agura Ikorodu', 'Ibeshe Ikorodu', 'Hill Top Ikorodu', 'Marina',\n",
       "       'Benson Ikorodu', 'Palmgroove Ilupeju', 'Luth Mushin', 'Ajuwon',\n",
       "       'Ori Okuta Ikorodu', 'Garage Ikorodu', 'Obanikoro Ilupeju',\n",
       "       'Owode Onirin', ' Odongunyan Ikorodu', 'Fadeyi', 'Jebba Yaba',\n",
       "       'Ile Epo'], dtype=object)"
      ]
     },
     "execution_count": 19,
     "metadata": {},
     "output_type": "execute_result"
    }
   ],
   "source": [
    "location_match['match'].unique()"
   ]
  },
  {
   "cell_type": "markdown",
   "metadata": {},
   "source": [
    "#### Joining our new data file, to the original data, so that each location can get the proper area label"
   ]
  },
  {
   "cell_type": "code",
   "execution_count": 20,
   "metadata": {},
   "outputs": [],
   "source": [
    "merged = rent.merge(location_match, how = 'left', left_index = True, right_index = True)"
   ]
  },
  {
   "cell_type": "markdown",
   "metadata": {},
   "source": [
    "#### We late discovered the Itele and Ayetoro are not in Lagos, so we are taking the areas out"
   ]
  },
  {
   "cell_type": "code",
   "execution_count": 21,
   "metadata": {},
   "outputs": [],
   "source": [
    "iteleandayetoro = merged[merged['match'].isin(['Itele', 'Ayetoro'])].index"
   ]
  },
  {
   "cell_type": "code",
   "execution_count": 22,
   "metadata": {},
   "outputs": [],
   "source": [
    "merged = merged.drop(iteleandayetoro)"
   ]
  },
  {
   "cell_type": "markdown",
   "metadata": {},
   "source": [
    "#### Taking away properties having as price as 0,1,4, 10 up to 150,000\n",
    "#### We are taking away prices up 150,000 because some of the properties with that price look ambigious. For instance a 3 bed flat for 150k in Lekki, something not even obtainable in low-income areas of lagos. And morevoer, it is not clear or stated if the amount is per month. Apart from all this, we believe all other prices are annual based"
   ]
  },
  {
   "cell_type": "code",
   "execution_count": 23,
   "metadata": {},
   "outputs": [],
   "source": [
    "pricesbelow150k = merged[merged['price'] <= 150000].index\n",
    "merged = merged.drop(pricesbelow150k)"
   ]
  },
  {
   "cell_type": "code",
   "execution_count": 25,
   "metadata": {},
   "outputs": [],
   "source": [
    "merged.reset_index(drop = True, inplace = True)"
   ]
  },
  {
   "cell_type": "markdown",
   "metadata": {},
   "source": [
    "#### Categorising each property for analysis"
   ]
  },
  {
   "cell_type": "code",
   "execution_count": 27,
   "metadata": {},
   "outputs": [],
   "source": [
    "conditions = [\n",
    "    (merged['price'] <= 500000),\n",
    "    (merged['price'] <= 1000000),\n",
    "    (merged['price'] <= 2000000),\n",
    "    (merged['price'] <= 5000000),\n",
    "    (merged['price'] > 5000000)\n",
    "]\n",
    "\n",
    "values = ['Less than 500k', '501k-1M', '1.1M-2M', '2.1M-5M', 'Above 5M']"
   ]
  },
  {
   "cell_type": "code",
   "execution_count": 28,
   "metadata": {},
   "outputs": [],
   "source": [
    "merged['pricerange'] = np.select(conditions,values)"
   ]
  },
  {
   "cell_type": "markdown",
   "metadata": {},
   "source": [
    "# Focus on 3 Bed Flat Apartments"
   ]
  },
  {
   "cell_type": "code",
   "execution_count": 29,
   "metadata": {},
   "outputs": [],
   "source": [
    "threebedflat = merged[(merged['prop_type'] == 'Flat') & (merged['bed'] == '3')]\n",
    "cheapest3bedflats = threebedflat.nsmallest(10, 'price')"
   ]
  },
  {
   "cell_type": "code",
   "execution_count": 30,
   "metadata": {
    "scrolled": true
   },
   "outputs": [],
   "source": [
    "avgpriceof3bedflat = threebedflat.groupby('match').mean()"
   ]
  },
  {
   "cell_type": "code",
   "execution_count": 31,
   "metadata": {},
   "outputs": [],
   "source": [
    "import matplotlib.pyplot as plt\n",
    "%matplotlib inline"
   ]
  },
  {
   "cell_type": "markdown",
   "metadata": {},
   "source": [
    "# Where can you get the Cheapest 3 Bed Flat Apartment"
   ]
  },
  {
   "cell_type": "code",
   "execution_count": 33,
   "metadata": {},
   "outputs": [
    {
     "data": {
      "text/plain": [
       "Text(0.5, 1.0, 'Areas with Cheapest 3 Bedroom Flats in Lagos')"
      ]
     },
     "execution_count": 33,
     "metadata": {},
     "output_type": "execute_result"
    },
    {
     "data": {
      "image/png": "[encoded data removed]",
      "text/plain": [
       "<Figure size 748.8x514.8 with 1 Axes>"
      ]
     },
     "metadata": {},
     "output_type": "display_data"
    }
   ],
   "source": [
    "plt.style.use('ggplot')\n",
    "below500k = avgpriceof3bedflat.nsmallest(20, 'price').sort_values('price', ascending = False)\n",
    "below500k.plot(kind = 'barh')\n",
    "plt.xlabel('Average Price in Naira', size = 10)\n",
    "plt.ylabel('Locations', size = 10)\n",
    "plt.title('Areas with Cheapest 3 Bedroom Flats in Lagos')"
   ]
  },
  {
   "cell_type": "markdown",
   "metadata": {},
   "source": [
    "# What if you decided to extend your budget to 1million naira\n",
    "# Which areas can you settle in?"
   ]
  },
  {
   "cell_type": "code",
   "execution_count": 34,
   "metadata": {},
   "outputs": [
    {
     "data": {
      "text/plain": [
       "Text(0.5, 1.0, 'Areas with 3 Bedroom Flats Between 501k and 1 million')"
      ]
     },
     "execution_count": 34,
     "metadata": {},
     "output_type": "execute_result"
    },
    {
     "data": {
      "image/png": "[encoded data removed]",
      "text/plain": [
       "<Figure size 748.8x514.8 with 1 Axes>"
      ]
     },
     "metadata": {},
     "output_type": "display_data"
    }
   ],
   "source": [
    "btw500and1m = avgpriceof3bedflat[avgpriceof3bedflat['price'].between(501000,1000000)].nsmallest(20,'price').sort_values('price', ascending=False)\n",
    "btw500and1m.plot(kind = 'barh')\n",
    "plt.xlabel('Average Price in Naira', size = 10)\n",
    "plt.ylabel('Locations', size = 10)\n",
    "plt.title('Areas with 3 Bedroom Flats Between 501k and 1 million')"
   ]
  },
  {
   "cell_type": "code",
   "execution_count": null,
   "metadata": {},
   "outputs": [],
   "source": []
  }
 ],
 "metadata": {
  "kernelspec": {
   "display_name": "Python 3",
   "language": "python",
   "name": "python3"
  },
  "language_info": {
   "codemirror_mode": {
    "name": "ipython",
    "version": 3
   },
   "file_extension": ".py",
   "mimetype": "text/x-python",
   "name": "python",
   "nbconvert_exporter": "python",
   "pygments_lexer": "ipython3",
   "version": "3.8.5"
  }
 },
 "nbformat": 4,
 "nbformat_minor": 4
}
